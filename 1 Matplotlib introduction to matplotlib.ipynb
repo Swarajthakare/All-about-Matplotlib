{
 "cells": [
  {
   "cell_type": "markdown",
   "id": "f14485d7",
   "metadata": {},
   "source": [
    "## Agenda\n",
    "\n",
    "- What is Matplotlib?\n",
    "- History of Matplotlib?\n",
    "- Matplotlib Graphs?\n",
    "- Dependency of Matplotlib?\n",
    "- Installation of Matplitlib\n",
    "- Importing Matplotlib:\n",
    "- Study Materials"
   ]
  },
  {
   "cell_type": "markdown",
   "id": "3c612d43",
   "metadata": {},
   "source": [
    "#### What is matplotlib?\n",
    "- Matplotlib is 2D and 3D plotting python library.\n",
    "- It produce high quality graph. \n",
    "- It also support animation.\n",
    "\n",
    "\n",
    "\n",
    "#### History of Matplotlib\n",
    "- American neurobiologist\n",
    "- John D.Hunter(1968 - 2012)\n",
    "- Author og Matplotlib\n",
    "- Written in Python \n",
    "- Initial released in 2003\n",
    "\n",
    "#### Matplotlib Graphs \n",
    "- Histogram\n",
    "- Scatterplots\n",
    "- Pie plot\n",
    "- Error Charts\n",
    "- Power Spectra\n",
    "\n",
    "\n",
    "#### Dependency\n",
    "- Numpy\n",
    "- Pandas\n",
    "- \n",
    "\n",
    "#### Installation of Matplotlib\n",
    "\n",
    "\n",
    "\n",
    "\n",
    "#### Importing Matplotlib\n",
    "- from matplotlib import pyplot as plt\n",
    "- import matplotlib.pyplot as plt\n",
    "\n"
   ]
  },
  {
   "cell_type": "code",
   "execution_count": null,
   "id": "93ab1d20",
   "metadata": {},
   "outputs": [],
   "source": []
  }
 ],
 "metadata": {
  "kernelspec": {
   "display_name": "Python 3 (ipykernel)",
   "language": "python",
   "name": "python3"
  },
  "language_info": {
   "codemirror_mode": {
    "name": "ipython",
    "version": 3
   },
   "file_extension": ".py",
   "mimetype": "text/x-python",
   "name": "python",
   "nbconvert_exporter": "python",
   "pygments_lexer": "ipython3",
   "version": "3.9.13"
  }
 },
 "nbformat": 4,
 "nbformat_minor": 5
}
